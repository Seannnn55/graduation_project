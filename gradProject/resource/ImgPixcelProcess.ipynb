{
 "cells": [
  {
   "cell_type": "code",
   "execution_count": 117,
   "id": "d36a486d",
   "metadata": {},
   "outputs": [],
   "source": [
    "import cv2\n",
    "import numpy as np\n",
    "import matplotlib.pyplot as plt"
   ]
  },
  {
   "cell_type": "code",
   "execution_count": 118,
   "id": "711af505",
   "metadata": {},
   "outputs": [],
   "source": [
    "IMG_NUM=300 #이미지 사이즈\n",
    "PIN_NUM=10  #한 변의 핀 개수\n",
    "SCALE_NUM=5 #표시할 핀의 높낮이"
   ]
  },
  {
   "cell_type": "code",
   "execution_count": 119,
   "id": "e5bf0878",
   "metadata": {},
   "outputs": [],
   "source": [
    "img_art = cv2.imread('C:\\\\Users\\sally\\\\gradProject\\\\image\\\\monarisa.jpg',0) \n",
    "#이미지 불러오기"
   ]
  },
  {
   "cell_type": "code",
   "execution_count": 120,
   "id": "b37d55b5",
   "metadata": {},
   "outputs": [],
   "source": [
    "img_art=cv2.resize(img_art,dsize=(IMG_NUM,IMG_NUM),interpolation=cv2.INTER_LINEAR) \n",
    "#이미지 리사이즈"
   ]
  },
  {
   "cell_type": "code",
   "execution_count": 121,
   "id": "95b197db",
   "metadata": {},
   "outputs": [],
   "source": [
    "# cv2.imshow('gray',img_art)\n",
    "# cv2.waitKey(0)\n",
    "# cv2.destroyAllWindows()"
   ]
  },
  {
   "cell_type": "code",
   "execution_count": 126,
   "id": "be1f7cce",
   "metadata": {},
   "outputs": [],
   "source": [
    "#모자이크화\n",
    "\n",
    "ratio = PIN_NUM #핀의 개수로 모자이크 축소 비율 \n",
    "\n",
    "img_mosaic = cv2.resize(img_art,(ratio, ratio))\n",
    "img_mosaic = cv2.resize(img_mosaic,(IMG_NUM,IMG_NUM),interpolation=cv2.INTER_AREA)\n",
    "\n",
    "\n",
    "# cv2.imshow('mosaic',img_mosaic)\n",
    "# cv2.waitKey(0)\n",
    "# cv2.destroyAllWindows()\n",
    "    "
   ]
  },
  {
   "cell_type": "code",
   "execution_count": 123,
   "id": "a60b83f7",
   "metadata": {},
   "outputs": [
    {
     "name": "stdout",
     "output_type": "stream",
     "text": [
      "[[117, 120, 119, 115, 116, 115, 120, 118, 125, 132], [147, 153, 150, 148, 191, 46, 86, 147, 150, 138], [99, 97, 122, 33, 136, 149, 17, 99, 158, 131], [59, 74, 79, 37, 129, 46, 32, 84, 86, 86], [81, 86, 70, 32, 192, 178, 79, 39, 125, 108], [89, 108, 51, 55, 108, 87, 43, 24, 37, 78], [74, 49, 40, 28, 52, 25, 32, 24, 28, 46], [42, 83, 59, 147, 22, 25, 16, 31, 29, 34], [17, 23, 78, 113, 140, 45, 52, 25, 18, 28], [11, 18, 26, 17, 14, 9, 6, 8, 11, 23]]\n"
     ]
    }
   ],
   "source": [
    "# 행렬 리스트 생성\n",
    "img_list = []\n",
    "\n",
    "for row in range(PIN_NUM):\n",
    "    img_list.append([])\n",
    "    for col in range(PIN_NUM):\n",
    "        img_list[row].append([])\n",
    "        \n",
    "#7*7의 행렬 리스트 생성됨\n",
    "    \n",
    "# print(img_list)\n",
    "\n",
    "fig=IMG_NUM//PIN_NUM #300/20=15 커다란 픽셀 하나의 변의 크기 \n",
    "\n",
    "for row in range(PIN_NUM):\n",
    "    for col in range(PIN_NUM):\n",
    "        img_list[row][col]=img_mosaic[fig*row,fig*col]\n",
    "        \n",
    "# print(img_list)"
   ]
  },
  {
   "cell_type": "code",
   "execution_count": 141,
   "id": "d80e4cb9",
   "metadata": {},
   "outputs": [
    {
     "name": "stdout",
     "output_type": "stream",
     "text": [
      "[[102, 102, 102, 102, 102, 102, 102, 102, 102, 102], [102, 153, 102, 102, 153, 0, 51, 102, 102, 102], [51, 51, 102, 0, 102, 102, 0, 51, 153, 102], [51, 51, 51, 0, 102, 0, 0, 51, 51, 51], [51, 51, 51, 0, 153, 153, 51, 0, 102, 102], [51, 102, 51, 51, 102, 51, 0, 0, 0, 51], [51, 0, 0, 0, 51, 0, 0, 0, 0, 0], [0, 51, 51, 102, 0, 0, 0, 0, 0, 0], [0, 0, 51, 102, 102, 0, 51, 0, 0, 0], [0, 0, 0, 0, 0, 0, 0, 0, 0, 0]]\n"
     ]
    }
   ],
   "source": [
    "#255스케일을 SCALE_NUM 만큼으로 변형\n",
    "\n",
    "preSc=0\n",
    "scl_list=[]\n",
    "scl_one=256//SCALE_NUM #배수가 되는 기본 단위\n",
    "\n",
    "\n",
    "for i in range(SCALE_NUM):\n",
    "    scl_list.append(256//SCALE_NUM*i)\n",
    "\n",
    "#SCALE_NUM에 따라 할당될 값 [0, 51, 102, 153, 204] \n",
    "\n",
    "for row in range(PIN_NUM):\n",
    "    for col in range(PIN_NUM):\n",
    "        for i in range(len(scl_list)):\n",
    "                \n",
    "            preSc=(img_list[row][col]//scl_one)\n",
    "        \n",
    "            img_list[row][col]=scl_list[preSc]\n",
    "                \n",
    "#print(img_list)\n",
    "            \n",
    "#이걸 이미지에 적용\n",
    "\n",
    "for row in range(IMG_NUM):\n",
    "    for col in range(IMG_NUM):\n",
    "        img_mosaic[row,col]=img_list[row//fig][col//fig]\n",
    "    \n",
    "            \n",
    "cv2.imshow('after_scaled',img_mosaic)\n",
    "cv2.waitKey(0)\n",
    "cv2.destroyAllWindows()\n",
    "\n",
    "\n",
    "#단, 실제 쓰는 값은 img_list 로 조정하면 됨\n"
   ]
  },
  {
   "cell_type": "code",
   "execution_count": null,
   "id": "ded76aca",
   "metadata": {},
   "outputs": [],
   "source": []
  },
  {
   "cell_type": "code",
   "execution_count": null,
   "id": "e22fec22",
   "metadata": {},
   "outputs": [],
   "source": []
  }
 ],
 "metadata": {
  "kernelspec": {
   "display_name": "Python 3 (ipykernel)",
   "language": "python",
   "name": "python3"
  },
  "language_info": {
   "codemirror_mode": {
    "name": "ipython",
    "version": 3
   },
   "file_extension": ".py",
   "mimetype": "text/x-python",
   "name": "python",
   "nbconvert_exporter": "python",
   "pygments_lexer": "ipython3",
   "version": "3.11.5"
  }
 },
 "nbformat": 4,
 "nbformat_minor": 5
}
